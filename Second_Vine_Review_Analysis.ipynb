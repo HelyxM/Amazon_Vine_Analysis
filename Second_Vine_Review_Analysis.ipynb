{
  "nbformat": 4,
  "nbformat_minor": 0,
  "metadata": {
    "colab": {
      "name": "Vine_Review_Analysis",
      "provenance": [],
      "collapsed_sections": []
    },
    "kernelspec": {
      "name": "python3",
      "display_name": "Python 3"
    },
    "language_info": {
      "name": "python"
    }
  },
  "cells": [
    {
      "cell_type": "code",
      "execution_count": 10,
      "metadata": {
        "colab": {
          "base_uri": "https://localhost:8080/"
        },
        "id": "T5XSUKJQqo3v",
        "outputId": "d2b9f76f-f66f-4459-e91b-8463470a75c3"
      },
      "outputs": [
        {
          "output_type": "stream",
          "name": "stdout",
          "text": [
            "\r0% [Working]\r            \rHit:1 https://cloud.r-project.org/bin/linux/ubuntu bionic-cran40/ InRelease\n",
            "Ign:2 https://developer.download.nvidia.com/compute/cuda/repos/ubuntu1804/x86_64  InRelease\n",
            "Ign:3 https://developer.download.nvidia.com/compute/machine-learning/repos/ubuntu1804/x86_64  InRelease\n",
            "Hit:4 https://developer.download.nvidia.com/compute/cuda/repos/ubuntu1804/x86_64  Release\n",
            "Hit:5 https://developer.download.nvidia.com/compute/machine-learning/repos/ubuntu1804/x86_64  Release\n",
            "Get:6 http://security.ubuntu.com/ubuntu bionic-security InRelease [88.7 kB]\n",
            "Hit:7 http://archive.ubuntu.com/ubuntu bionic InRelease\n",
            "Hit:8 http://ppa.launchpad.net/c2d4u.team/c2d4u4.0+/ubuntu bionic InRelease\n",
            "Get:9 http://archive.ubuntu.com/ubuntu bionic-updates InRelease [88.7 kB]\n",
            "Hit:11 http://ppa.launchpad.net/cran/libgit2/ubuntu bionic InRelease\n",
            "Hit:13 http://ppa.launchpad.net/deadsnakes/ppa/ubuntu bionic InRelease\n",
            "Get:14 http://archive.ubuntu.com/ubuntu bionic-backports InRelease [74.6 kB]\n",
            "Hit:15 http://ppa.launchpad.net/graphics-drivers/ppa/ubuntu bionic InRelease\n",
            "Fetched 252 kB in 2s (113 kB/s)\n",
            "Reading package lists... Done\n"
          ]
        }
      ],
      "source": [
        "import os\n",
        "# Find the latest version of spark 3.0  from http://www.apache.org/dist/spark/ and enter as the spark version\n",
        "# For example:\n",
        "# spark_version = 'spark-3.0.3'\n",
        "spark_version = 'spark-3.0.3'\n",
        "os.environ['SPARK_VERSION']=spark_version\n",
        "\n",
        "# Install Spark and Java\n",
        "!apt-get update\n",
        "!apt-get install openjdk-11-jdk-headless -qq > /dev/null\n",
        "!wget -q http://www.apache.org/dist/spark/$SPARK_VERSION/$SPARK_VERSION-bin-hadoop2.7.tgz\n",
        "!tar xf $SPARK_VERSION-bin-hadoop2.7.tgz\n",
        "!pip install -q findspark\n",
        "\n",
        "# Set Environment Variables\n",
        "os.environ[\"JAVA_HOME\"] = \"/usr/lib/jvm/java-11-openjdk-amd64\"\n",
        "os.environ[\"SPARK_HOME\"] = f\"/content/{spark_version}-bin-hadoop2.7\"\n",
        "\n",
        "# Start a SparkSession\n",
        "import findspark\n",
        "findspark.init()"
      ]
    },
    {
      "cell_type": "code",
      "source": [
        "# Start Spark session\n",
        "from pyspark.sql import SparkSession\n",
        "spark = SparkSession.builder.appName(\"Vine_Review_Analysis\").getOrCreate()"
      ],
      "metadata": {
        "id": "4HhP-1rgrXk9"
      },
      "execution_count": 11,
      "outputs": []
    },
    {
      "cell_type": "code",
      "source": [
        "from pyspark import SparkFiles\n",
        "url = \"https://s3.amazonaws.com/amazon-reviews-pds/tsv/amazon_reviews_us_PC_v1_00.tsv.gz\"\n",
        "spark.sparkContext.addFile(url)\n",
        "df = spark.read.option(\"encoding\", \"UTF-8\").csv(SparkFiles.get(\"\"), sep=\"\\t\", header=True, inferSchema=True)\n",
        "df.show()"
      ],
      "metadata": {
        "colab": {
          "base_uri": "https://localhost:8080/"
        },
        "id": "F_Im3pgmsstT",
        "outputId": "e52f6ef6-baca-40fb-ca10-35f6b2db5bf0"
      },
      "execution_count": 12,
      "outputs": [
        {
          "output_type": "stream",
          "name": "stdout",
          "text": [
            "+-----------+-----------+--------------+----------+--------------+--------------------+----------------+-----------+-------------+-----------+----+-----------------+--------------------+--------------------+-----------+\n",
            "|marketplace|customer_id|     review_id|product_id|product_parent|       product_title|product_category|star_rating|helpful_votes|total_votes|vine|verified_purchase|     review_headline|         review_body|review_date|\n",
            "+-----------+-----------+--------------+----------+--------------+--------------------+----------------+-----------+-------------+-----------+----+-----------------+--------------------+--------------------+-----------+\n",
            "|         US|   22873041|R3ARRMDEGED8RD|B00KJWQIIC|     335625766|Plemo 14-Inch Lap...|              PC|          5|            0|          0|   N|                Y|Pleasantly surprised|I was very surpri...| 2015-08-31|\n",
            "|         US|   30088427| RQ28TSA020Y6J|B013ALA9LA|     671157305|TP-Link OnHub AC1...|              PC|          5|           24|         31|   N|                N|OnHub is a pretty...|I am a Google emp...| 2015-08-31|\n",
            "|         US|   20329786| RUXJRZCT6953M|B00PML2GQ8|     982036237|AmazonBasics USB ...|              PC|          1|            2|          2|   N|                N|None of them work...|Bought cables in ...| 2015-08-31|\n",
            "|         US|   14215710| R7EO0UO6BPB71|B001NS0OZ4|     576587596|Transcend P8 15-i...|              PC|          1|            0|          0|   N|                Y|just keep searching.|nope, cheap and slow| 2015-08-31|\n",
            "|         US|   38264512|R39NJY2YJ1JFSV|B00AQMTND2|     964759214|Aleratec SATA Dat...|              PC|          5|            0|          0|   N|                Y|          Five Stars|Excellent! Great ...| 2015-08-31|\n",
            "|         US|   30548466|R31SR7REWNX7CF|B00KX4TORI|     170101802|Kingston Digital ...|              PC|          5|            0|          0|   N|                Y|Good quality, wor...|Good quality,work...| 2015-08-31|\n",
            "|         US|     589298| RVBP8I1R0CTZ8|B00P17WEMY|     206124740|White 9 Inch Unlo...|              PC|          3|            1|          2|   N|                Y|in fact this is t...|This demn tablet ...| 2015-08-31|\n",
            "|         US|   49329488|R1QF6RS1PDLU18|B00TR05L9Y|     778403103|Lenovo TAB2 A10 -...|              PC|          4|            1|          1|   N|                Y|                Good|I am not sure I d...| 2015-08-31|\n",
            "|         US|   50728290|R23AICGEDAJQL1|B0098Y77OG|     177098042|                Acer|              PC|          1|            0|          0|   N|                Y|You get what you ...|After exactly 45 ...| 2015-08-31|\n",
            "|         US|   37802374|R2EY3N4K9W19UP|B00IFYEYXC|     602496520|AzureWave Broadco...|              PC|          5|            3|          4|   N|                Y|Great for Windows...|Replaced my Intel...| 2015-08-31|\n",
            "|         US|   52027882| RC9AW4HKJ016M|B0091ITP0S|     977217357|HDE Rotating iPad...|              PC|          1|            0|          0|   N|                Y|            One Star|IT HAS ALREADY CR...| 2015-08-31|\n",
            "|         US|   41770239|R2ALWJE9N6ZBXD|B008I21EA2|     295632907|Linksys AC1750 Wi...|              PC|          1|            0|          0|   N|                N|   Very Disappointed|Very disappointed...| 2015-08-31|\n",
            "|         US|   42560427|R2G5FPA4OX37GV|B00MRB7SBO|     922591915|iPad Pro 9.7, iPa...|              PC|          5|            1|          1|   N|                Y|          Five Stars|Works well. I use...| 2015-08-31|\n",
            "|         US|   46345923|R1IKTSEVXSIMOD|B00LLER2CS|     997551273|SanDisk 16GB CZ43...|              PC|          5|            0|          0|   N|                Y|The encryption so...|The encryption so...| 2015-08-31|\n",
            "|         US|   41751192|R2YA6G6SRFEWF6|B00B0CQCCC|     937999925|TRENDnet Wireless...|              PC|          1|            0|          1|   N|                Y|Didn't last 2 years.|I have owned this...| 2015-08-31|\n",
            "|         US|   21176481| RS9H1N9I3Z1IA|B00GU8W5AE|      13865167|Redragon M901 PER...|              PC|          5|            0|          0|   N|                Y|Awesome gaming mouse|My first gaming m...| 2015-08-31|\n",
            "|         US|   10674058| RKKLBI76VTDNT|B00XHMXJQ0|     967483469|Mudder MHL Adapte...|              PC|          1|            0|          0|   N|                Y|            One Star|I cannot get it t...| 2015-08-31|\n",
            "|         US|   43341796|R2NJ3WFUS4E5G6|B00YGJJQ6U|     986548413|Fintie iPad Air 2...|              PC|          4|            0|          0|   N|                Y|Great choices of ...|Love that Finite ...| 2015-08-31|\n",
            "|         US|   13232866|R21PTQNLGCBN0I|B00XMN20Y6|     873354048|Fintie iPad 2/3/4...|              PC|          5|            0|          0|   N|                Y|          Five Stars|Nice color, I lov...| 2015-08-31|\n",
            "|         US|   29333557|R3G4RT3EQ9RSY7|B00MA40W9I|     535866197|Egoway® New Lapto...|              PC|          1|            0|          0|   N|                Y|Totally wasted $6...|Totally wasted $6...| 2015-08-31|\n",
            "+-----------+-----------+--------------+----------+--------------+--------------------+----------------+-----------+-------------+-----------+----+-----------------+--------------------+--------------------+-----------+\n",
            "only showing top 20 rows\n",
            "\n"
          ]
        }
      ]
    },
    {
      "cell_type": "code",
      "source": [
        "# Create the vine_table. DataFrame\n",
        "vine_df = df.select([\"review_id\", \"star_rating\", \"helpful_votes\", \"total_votes\", \"vine\", \"verified_purchase\"])\n",
        "vine_df.show()"
      ],
      "metadata": {
        "colab": {
          "base_uri": "https://localhost:8080/"
        },
        "id": "vOnARmaDs1iV",
        "outputId": "623fcf83-a057-4c8f-9b9b-8f9a69e3ee11"
      },
      "execution_count": 13,
      "outputs": [
        {
          "output_type": "stream",
          "name": "stdout",
          "text": [
            "+--------------+-----------+-------------+-----------+----+-----------------+\n",
            "|     review_id|star_rating|helpful_votes|total_votes|vine|verified_purchase|\n",
            "+--------------+-----------+-------------+-----------+----+-----------------+\n",
            "|R3ARRMDEGED8RD|          5|            0|          0|   N|                Y|\n",
            "| RQ28TSA020Y6J|          5|           24|         31|   N|                N|\n",
            "| RUXJRZCT6953M|          1|            2|          2|   N|                N|\n",
            "| R7EO0UO6BPB71|          1|            0|          0|   N|                Y|\n",
            "|R39NJY2YJ1JFSV|          5|            0|          0|   N|                Y|\n",
            "|R31SR7REWNX7CF|          5|            0|          0|   N|                Y|\n",
            "| RVBP8I1R0CTZ8|          3|            1|          2|   N|                Y|\n",
            "|R1QF6RS1PDLU18|          4|            1|          1|   N|                Y|\n",
            "|R23AICGEDAJQL1|          1|            0|          0|   N|                Y|\n",
            "|R2EY3N4K9W19UP|          5|            3|          4|   N|                Y|\n",
            "| RC9AW4HKJ016M|          1|            0|          0|   N|                Y|\n",
            "|R2ALWJE9N6ZBXD|          1|            0|          0|   N|                N|\n",
            "|R2G5FPA4OX37GV|          5|            1|          1|   N|                Y|\n",
            "|R1IKTSEVXSIMOD|          5|            0|          0|   N|                Y|\n",
            "|R2YA6G6SRFEWF6|          1|            0|          1|   N|                Y|\n",
            "| RS9H1N9I3Z1IA|          5|            0|          0|   N|                Y|\n",
            "| RKKLBI76VTDNT|          1|            0|          0|   N|                Y|\n",
            "|R2NJ3WFUS4E5G6|          4|            0|          0|   N|                Y|\n",
            "|R21PTQNLGCBN0I|          5|            0|          0|   N|                Y|\n",
            "|R3G4RT3EQ9RSY7|          1|            0|          0|   N|                Y|\n",
            "+--------------+-----------+-------------+-----------+----+-----------------+\n",
            "only showing top 20 rows\n",
            "\n"
          ]
        }
      ]
    },
    {
      "cell_type": "code",
      "source": [
        "votes_df = vine_df.filter(\"total_votes>20\")\n",
        "votes_df.show()"
      ],
      "metadata": {
        "colab": {
          "base_uri": "https://localhost:8080/"
        },
        "id": "r0D9NEyotFzV",
        "outputId": "21b79f76-b0fd-4bc5-c570-6357a9661dba"
      },
      "execution_count": 14,
      "outputs": [
        {
          "output_type": "stream",
          "name": "stdout",
          "text": [
            "+--------------+-----------+-------------+-----------+----+-----------------+\n",
            "|     review_id|star_rating|helpful_votes|total_votes|vine|verified_purchase|\n",
            "+--------------+-----------+-------------+-----------+----+-----------------+\n",
            "| RQ28TSA020Y6J|          5|           24|         31|   N|                N|\n",
            "|R25D83AEJRXUWO|          4|           18|         21|   N|                Y|\n",
            "|R35OW0SJPJWAHO|          1|           12|        162|   N|                Y|\n",
            "| RAP2ETU511BOI|          1|            5|         99|   N|                Y|\n",
            "|R1S9O5CCTD61ZD|          1|           45|         71|   N|                N|\n",
            "|R1RMOCWMV8F4VH|          1|            5|         21|   N|                Y|\n",
            "|R351KVE3VO78W9|          3|           36|         42|   N|                Y|\n",
            "| R4LANIHO6EXAH|          4|           35|         35|   N|                Y|\n",
            "|R3V26MZUOWAUA4|          3|           35|         45|   N|                Y|\n",
            "|R38OLNY5GR1PW6|          5|           44|         44|   N|                Y|\n",
            "|R2GK7RJNIAREIT|          1|           30|         32|   N|                Y|\n",
            "|R2OWRP6FXXECMK|          1|           42|         44|   N|                Y|\n",
            "|R260E9JPZZZ01Q|          2|           10|         27|   N|                N|\n",
            "| ROR2FE6Y8EZYG|          5|           19|         22|   N|                Y|\n",
            "|R1UWNRDWUZR68D|          3|           60|         60|   N|                Y|\n",
            "| RIJYX8PG45XOB|          5|           51|         52|   N|                Y|\n",
            "|R2WPARQ94X1HCG|          1|            0|         22|   N|                Y|\n",
            "|R24PUIWP0XB411|          1|           27|         27|   N|                Y|\n",
            "| RBYFK3W84LW9F|          2|           32|         37|   N|                Y|\n",
            "| RT880ROJ1I4Z5|          5|           22|         31|   N|                N|\n",
            "+--------------+-----------+-------------+-----------+----+-----------------+\n",
            "only showing top 20 rows\n",
            "\n"
          ]
        }
      ]
    },
    {
      "cell_type": "code",
      "source": [
        "helpful_votes = votes_df.filter((votes_df[\"helpful_votes\"]/votes_df[\"total_votes\"]) > .50)\n",
        "helpful_votes.show()"
      ],
      "metadata": {
        "colab": {
          "base_uri": "https://localhost:8080/"
        },
        "id": "lYqdz5mKtVeU",
        "outputId": "b4d57afa-ff23-4a4b-fc48-3522576d6308"
      },
      "execution_count": 15,
      "outputs": [
        {
          "output_type": "stream",
          "name": "stdout",
          "text": [
            "+--------------+-----------+-------------+-----------+----+-----------------+\n",
            "|     review_id|star_rating|helpful_votes|total_votes|vine|verified_purchase|\n",
            "+--------------+-----------+-------------+-----------+----+-----------------+\n",
            "| RQ28TSA020Y6J|          5|           24|         31|   N|                N|\n",
            "|R25D83AEJRXUWO|          4|           18|         21|   N|                Y|\n",
            "|R1S9O5CCTD61ZD|          1|           45|         71|   N|                N|\n",
            "|R351KVE3VO78W9|          3|           36|         42|   N|                Y|\n",
            "| R4LANIHO6EXAH|          4|           35|         35|   N|                Y|\n",
            "|R3V26MZUOWAUA4|          3|           35|         45|   N|                Y|\n",
            "|R38OLNY5GR1PW6|          5|           44|         44|   N|                Y|\n",
            "|R2GK7RJNIAREIT|          1|           30|         32|   N|                Y|\n",
            "|R2OWRP6FXXECMK|          1|           42|         44|   N|                Y|\n",
            "| ROR2FE6Y8EZYG|          5|           19|         22|   N|                Y|\n",
            "|R1UWNRDWUZR68D|          3|           60|         60|   N|                Y|\n",
            "| RIJYX8PG45XOB|          5|           51|         52|   N|                Y|\n",
            "|R24PUIWP0XB411|          1|           27|         27|   N|                Y|\n",
            "| RBYFK3W84LW9F|          2|           32|         37|   N|                Y|\n",
            "| RT880ROJ1I4Z5|          5|           22|         31|   N|                N|\n",
            "|R2ICLUNZ6A5DXB|          1|           16|         23|   N|                Y|\n",
            "|R3H11HIP4SCL9V|          5|           31|         33|   N|                Y|\n",
            "| RPG85MPSR10JG|          1|           23|         26|   N|                Y|\n",
            "|R2UAVRDG3AUF3K|          5|           14|         21|   N|                N|\n",
            "|R2CEZU1K5CVLRL|          1|           17|         22|   N|                Y|\n",
            "+--------------+-----------+-------------+-----------+----+-----------------+\n",
            "only showing top 20 rows\n",
            "\n"
          ]
        }
      ]
    },
    {
      "cell_type": "code",
      "source": [
        "vine_user_votes_df = helpful_votes.filter(helpful_votes[\"vine\"] == 'Y')\n",
        "vine_user_votes_df.show()\n",
        "non_vine_votes_df = helpful_votes.filter(helpful_votes[\"vine\"] == \"N\")\n",
        "non_vine_votes_df.show()\n"
      ],
      "metadata": {
        "colab": {
          "base_uri": "https://localhost:8080/"
        },
        "id": "NG3EusojurMk",
        "outputId": "54cd0d10-2cf0-4752-b68b-6aa8fda2588a"
      },
      "execution_count": 18,
      "outputs": [
        {
          "output_type": "stream",
          "name": "stdout",
          "text": [
            "+--------------+-----------+-------------+-----------+----+-----------------+\n",
            "|     review_id|star_rating|helpful_votes|total_votes|vine|verified_purchase|\n",
            "+--------------+-----------+-------------+-----------+----+-----------------+\n",
            "|R3J2DPYUH6453D|          5|          136|        153|   Y|                N|\n",
            "|R25QTFLERWK6SJ|          3|          852|        956|   Y|                N|\n",
            "|R1BG71K9B61LI1|          4|           39|         39|   Y|                N|\n",
            "| R8WGX426U56E0|          5|           19|         21|   Y|                N|\n",
            "| R614TCIDD36LE|          4|          131|        147|   Y|                N|\n",
            "|R28X5K1OZBQSBK|          5|           25|         28|   Y|                N|\n",
            "|R2CUDWKAUWGHIT|          5|           19|         24|   Y|                N|\n",
            "| R886ADSI1HBU5|          5|           88|         97|   Y|                N|\n",
            "|R3TTJTAND1CCSV|          5|           21|         23|   Y|                N|\n",
            "|R1W39WXYWNFJBG|          5|           32|         35|   Y|                N|\n",
            "|R18WUOSN0TQD9X|          4|           25|         26|   Y|                N|\n",
            "|R2UGZFCPGAI6OP|          5|           19|         21|   Y|                N|\n",
            "| R7Y17L4FLYYXN|          4|           23|         30|   Y|                N|\n",
            "|R1YEAR1J3MEI3I|          2|          143|        159|   Y|                N|\n",
            "|R1FI3ZKOA0RMR9|          5|          145|        164|   Y|                N|\n",
            "| RFZQEATC76JDP|          3|           17|         22|   Y|                N|\n",
            "|R1LDVLZ6TI5MSX|          3|           18|         27|   Y|                N|\n",
            "|R3GNG9SISW41OZ|          5|          143|        153|   Y|                N|\n",
            "| RSDDNABYLRGA1|          3|           60|         71|   Y|                N|\n",
            "|R2YKR6HFL47R8L|          5|           26|         35|   Y|                N|\n",
            "+--------------+-----------+-------------+-----------+----+-----------------+\n",
            "only showing top 20 rows\n",
            "\n",
            "+--------------+-----------+-------------+-----------+----+-----------------+\n",
            "|     review_id|star_rating|helpful_votes|total_votes|vine|verified_purchase|\n",
            "+--------------+-----------+-------------+-----------+----+-----------------+\n",
            "| RQ28TSA020Y6J|          5|           24|         31|   N|                N|\n",
            "|R25D83AEJRXUWO|          4|           18|         21|   N|                Y|\n",
            "|R1S9O5CCTD61ZD|          1|           45|         71|   N|                N|\n",
            "|R351KVE3VO78W9|          3|           36|         42|   N|                Y|\n",
            "| R4LANIHO6EXAH|          4|           35|         35|   N|                Y|\n",
            "|R3V26MZUOWAUA4|          3|           35|         45|   N|                Y|\n",
            "|R38OLNY5GR1PW6|          5|           44|         44|   N|                Y|\n",
            "|R2GK7RJNIAREIT|          1|           30|         32|   N|                Y|\n",
            "|R2OWRP6FXXECMK|          1|           42|         44|   N|                Y|\n",
            "| ROR2FE6Y8EZYG|          5|           19|         22|   N|                Y|\n",
            "|R1UWNRDWUZR68D|          3|           60|         60|   N|                Y|\n",
            "| RIJYX8PG45XOB|          5|           51|         52|   N|                Y|\n",
            "|R24PUIWP0XB411|          1|           27|         27|   N|                Y|\n",
            "| RBYFK3W84LW9F|          2|           32|         37|   N|                Y|\n",
            "| RT880ROJ1I4Z5|          5|           22|         31|   N|                N|\n",
            "|R2ICLUNZ6A5DXB|          1|           16|         23|   N|                Y|\n",
            "|R3H11HIP4SCL9V|          5|           31|         33|   N|                Y|\n",
            "| RPG85MPSR10JG|          1|           23|         26|   N|                Y|\n",
            "|R2UAVRDG3AUF3K|          5|           14|         21|   N|                N|\n",
            "|R2CEZU1K5CVLRL|          1|           17|         22|   N|                Y|\n",
            "+--------------+-----------+-------------+-----------+----+-----------------+\n",
            "only showing top 20 rows\n",
            "\n"
          ]
        }
      ]
    },
    {
      "cell_type": "code",
      "source": [
        "from pyspark.sql.functions import count\n",
        "\n",
        "total_reviews = helpful_votes.select(\"review_id\").count()\n",
        "five_star_reviews = helpful_votes.filter(helpful_votes[\"star_rating\"] == 5)\n",
        "five_star_reviews_total = five_star_reviews.select(\"review_id\").count()\n",
        "five_star_vine = (five_star_reviews.filter(five_star_reviews[\"vine\"] == \"Y\").count())\n",
        "percent_five_stars = ((five_star_reviews_total)/(total_reviews))\n",
        "percent_vine_five_stars = (five_star_vine)/(five_star_reviews_total)\n",
        "five_star_nonvine =(five_star_reviews.filter(five_star_reviews[\"vine\"] == \"N\").count())\n",
        "percent_nonvine_five_stars = (five_star_nonvine)/(five_star_reviews_total)\n",
        "\n"
      ],
      "metadata": {
        "id": "IQrR59VEvE8L"
      },
      "execution_count": 20,
      "outputs": []
    },
    {
      "cell_type": "code",
      "source": [
        "print(\"Total Helpful Reviews:\", total_reviews)\n",
        "print(\"Total Five Star Reviews:\", five_star_reviews_total)\n",
        "print(\"Total Number of Vine Reviews:\", five_star_vine)\n",
        "print(\"Total Number of non-Vine Reviews:\", five_star_nonvine)\n",
        "print(\"Percentage of Helpful 5-Star Reviews:\", percent_five_stars*100,\"%\")\n",
        "print(\"Percentage of Vine User 5-Star Reviews:\", percent_vine_five_stars*100,\"%\")\n",
        "print(\"Percentage of Non-Vine User 5-Star Reviews:\", percent_nonvine_five_stars*100,\"%\")"
      ],
      "metadata": {
        "colab": {
          "base_uri": "https://localhost:8080/"
        },
        "id": "TWFXbAhvyE2v",
        "outputId": "5bd1d80a-0646-4bd4-a05d-3a7ead05f70b"
      },
      "execution_count": 21,
      "outputs": [
        {
          "output_type": "stream",
          "name": "stdout",
          "text": [
            "Total Helpful Reviews: 74468\n",
            "Total Five Star Reviews: 34726\n",
            "Total Number of Vine Reviews: 746\n",
            "Total Number of non-Vine Reviews: 33980\n",
            "Percentage of Helpful 5-Star Reviews: 46.632110436697644 %\n",
            "Percentage of Vine User 5-Star Reviews: 2.1482462708057364 %\n",
            "Percentage of Non-Vine User 5-Star Reviews: 97.85175372919427 %\n"
          ]
        }
      ]
    },
    {
      "cell_type": "code",
      "source": [
        ""
      ],
      "metadata": {
        "id": "-NoGHWz5BGU6"
      },
      "execution_count": null,
      "outputs": []
    }
  ]
}